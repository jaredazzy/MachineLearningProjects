{
  "nbformat": 4,
  "nbformat_minor": 0,
  "metadata": {
    "colab": {
      "provenance": [],
      "authorship_tag": "ABX9TyMCvFFOkGqcPoRyOkacwabv",
      "include_colab_link": true
    },
    "kernelspec": {
      "name": "python3",
      "display_name": "Python 3"
    },
    "language_info": {
      "name": "python"
    }
  },
  "cells": [
    {
      "cell_type": "markdown",
      "metadata": {
        "id": "view-in-github",
        "colab_type": "text"
      },
      "source": [
        "<a href=\"https://colab.research.google.com/github/jaredazzy/Python-Projects/blob/main/NeuralNetworkML.ipynb\" target=\"_parent\"><img src=\"https://colab.research.google.com/assets/colab-badge.svg\" alt=\"Open In Colab\"/></a>"
      ]
    },
    {
      "cell_type": "code",
      "execution_count": 1,
      "metadata": {
        "id": "LNV7rcbDv7_r"
      },
      "outputs": [],
      "source": [
        "import numpy as np\n",
        "from sklearn.datasets import load_iris\n",
        "from sklearn.model_selection import train_test_split\n",
        "from keras.models import Sequential\n",
        "from keras.layers import Dense\n",
        "from keras.utils import to_categorical"
      ]
    },
    {
      "cell_type": "code",
      "source": [
        "iris = load_iris()\n",
        "X = iris.data\n",
        "y = to_categorical(iris.target)\n",
        "X_train, X_test, y_train, y_test = train_test_split(X, y, test_size=0.3)"
      ],
      "metadata": {
        "id": "24CpSvlMv__7"
      },
      "execution_count": 2,
      "outputs": []
    },
    {
      "cell_type": "code",
      "source": [
        "model = Sequential()\n",
        "model.add(Dense(10, input_dim=4, activation='relu'))\n",
        "model.add(Dense(10, activation='relu'))\n",
        "model.add(Dense(3, activation='softmax'))\n",
        "model.compile(optimizer='adam', loss='categorical_crossentropy', metrics=['accuracy'])"
      ],
      "metadata": {
        "id": "2qOkEhu_wBkA"
      },
      "execution_count": 3,
      "outputs": []
    },
    {
      "cell_type": "code",
      "source": [
        "model.fit(X_train, y_train, epochs=100, batch_size=10)"
      ],
      "metadata": {
        "colab": {
          "base_uri": "https://localhost:8080/"
        },
        "id": "XtlIJJBiwDzj",
        "outputId": "ece2649b-ccd9-4709-b46b-64eed8e19171"
      },
      "execution_count": 4,
      "outputs": [
        {
          "output_type": "stream",
          "name": "stdout",
          "text": [
            "Epoch 1/100\n",
            "11/11 [==============================] - 1s 28ms/step - loss: 2.3759 - accuracy: 0.3143\n",
            "Epoch 2/100\n",
            "11/11 [==============================] - 0s 3ms/step - loss: 1.7681 - accuracy: 0.3143\n",
            "Epoch 3/100\n",
            "11/11 [==============================] - 0s 3ms/step - loss: 1.3394 - accuracy: 0.3143\n",
            "Epoch 4/100\n",
            "11/11 [==============================] - 0s 3ms/step - loss: 1.0874 - accuracy: 0.3143\n",
            "Epoch 5/100\n",
            "11/11 [==============================] - 0s 3ms/step - loss: 0.9793 - accuracy: 0.3238\n",
            "Epoch 6/100\n",
            "11/11 [==============================] - 0s 3ms/step - loss: 0.9082 - accuracy: 0.5905\n",
            "Epoch 7/100\n",
            "11/11 [==============================] - 0s 3ms/step - loss: 0.8656 - accuracy: 0.7619\n",
            "Epoch 8/100\n",
            "11/11 [==============================] - 0s 4ms/step - loss: 0.8296 - accuracy: 0.7524\n",
            "Epoch 9/100\n",
            "11/11 [==============================] - 0s 3ms/step - loss: 0.7959 - accuracy: 0.7429\n",
            "Epoch 10/100\n",
            "11/11 [==============================] - 0s 3ms/step - loss: 0.7657 - accuracy: 0.7238\n",
            "Epoch 11/100\n",
            "11/11 [==============================] - 0s 3ms/step - loss: 0.7356 - accuracy: 0.7238\n",
            "Epoch 12/100\n",
            "11/11 [==============================] - 0s 3ms/step - loss: 0.7045 - accuracy: 0.7238\n",
            "Epoch 13/100\n",
            "11/11 [==============================] - 0s 3ms/step - loss: 0.6719 - accuracy: 0.7333\n",
            "Epoch 14/100\n",
            "11/11 [==============================] - 0s 3ms/step - loss: 0.6364 - accuracy: 0.7905\n",
            "Epoch 15/100\n",
            "11/11 [==============================] - 0s 3ms/step - loss: 0.5992 - accuracy: 0.8476\n",
            "Epoch 16/100\n",
            "11/11 [==============================] - 0s 4ms/step - loss: 0.5677 - accuracy: 0.8762\n",
            "Epoch 17/100\n",
            "11/11 [==============================] - 0s 3ms/step - loss: 0.5416 - accuracy: 0.8857\n",
            "Epoch 18/100\n",
            "11/11 [==============================] - 0s 4ms/step - loss: 0.5183 - accuracy: 0.8476\n",
            "Epoch 19/100\n",
            "11/11 [==============================] - 0s 3ms/step - loss: 0.4969 - accuracy: 0.8381\n",
            "Epoch 20/100\n",
            "11/11 [==============================] - 0s 3ms/step - loss: 0.4800 - accuracy: 0.8952\n",
            "Epoch 21/100\n",
            "11/11 [==============================] - 0s 3ms/step - loss: 0.4648 - accuracy: 0.9238\n",
            "Epoch 22/100\n",
            "11/11 [==============================] - 0s 3ms/step - loss: 0.4516 - accuracy: 0.9238\n",
            "Epoch 23/100\n",
            "11/11 [==============================] - 0s 3ms/step - loss: 0.4365 - accuracy: 0.9333\n",
            "Epoch 24/100\n",
            "11/11 [==============================] - 0s 3ms/step - loss: 0.4288 - accuracy: 0.8762\n",
            "Epoch 25/100\n",
            "11/11 [==============================] - 0s 3ms/step - loss: 0.4162 - accuracy: 0.9143\n",
            "Epoch 26/100\n",
            "11/11 [==============================] - 0s 3ms/step - loss: 0.4040 - accuracy: 0.9429\n",
            "Epoch 27/100\n",
            "11/11 [==============================] - 0s 3ms/step - loss: 0.3945 - accuracy: 0.9143\n",
            "Epoch 28/100\n",
            "11/11 [==============================] - 0s 3ms/step - loss: 0.3858 - accuracy: 0.8952\n",
            "Epoch 29/100\n",
            "11/11 [==============================] - 0s 3ms/step - loss: 0.3766 - accuracy: 0.9143\n",
            "Epoch 30/100\n",
            "11/11 [==============================] - 0s 3ms/step - loss: 0.3664 - accuracy: 0.9619\n",
            "Epoch 31/100\n",
            "11/11 [==============================] - 0s 4ms/step - loss: 0.3599 - accuracy: 0.9524\n",
            "Epoch 32/100\n",
            "11/11 [==============================] - 0s 3ms/step - loss: 0.3522 - accuracy: 0.9143\n",
            "Epoch 33/100\n",
            "11/11 [==============================] - 0s 3ms/step - loss: 0.3375 - accuracy: 0.9524\n",
            "Epoch 34/100\n",
            "11/11 [==============================] - 0s 3ms/step - loss: 0.3290 - accuracy: 0.9810\n",
            "Epoch 35/100\n",
            "11/11 [==============================] - 0s 3ms/step - loss: 0.3180 - accuracy: 0.9810\n",
            "Epoch 36/100\n",
            "11/11 [==============================] - 0s 3ms/step - loss: 0.3107 - accuracy: 0.9714\n",
            "Epoch 37/100\n",
            "11/11 [==============================] - 0s 3ms/step - loss: 0.3012 - accuracy: 0.9619\n",
            "Epoch 38/100\n",
            "11/11 [==============================] - 0s 3ms/step - loss: 0.2922 - accuracy: 0.9810\n",
            "Epoch 39/100\n",
            "11/11 [==============================] - 0s 4ms/step - loss: 0.2845 - accuracy: 0.9619\n",
            "Epoch 40/100\n",
            "11/11 [==============================] - 0s 3ms/step - loss: 0.2765 - accuracy: 0.9619\n",
            "Epoch 41/100\n",
            "11/11 [==============================] - 0s 3ms/step - loss: 0.2695 - accuracy: 0.9714\n",
            "Epoch 42/100\n",
            "11/11 [==============================] - 0s 3ms/step - loss: 0.2606 - accuracy: 0.9619\n",
            "Epoch 43/100\n",
            "11/11 [==============================] - 0s 3ms/step - loss: 0.2537 - accuracy: 0.9619\n",
            "Epoch 44/100\n",
            "11/11 [==============================] - 0s 3ms/step - loss: 0.2478 - accuracy: 0.9619\n",
            "Epoch 45/100\n",
            "11/11 [==============================] - 0s 4ms/step - loss: 0.2402 - accuracy: 0.9714\n",
            "Epoch 46/100\n",
            "11/11 [==============================] - 0s 5ms/step - loss: 0.2327 - accuracy: 0.9714\n",
            "Epoch 47/100\n",
            "11/11 [==============================] - 0s 4ms/step - loss: 0.2287 - accuracy: 0.9619\n",
            "Epoch 48/100\n",
            "11/11 [==============================] - 0s 4ms/step - loss: 0.2246 - accuracy: 0.9619\n",
            "Epoch 49/100\n",
            "11/11 [==============================] - 0s 4ms/step - loss: 0.2163 - accuracy: 0.9810\n",
            "Epoch 50/100\n",
            "11/11 [==============================] - 0s 4ms/step - loss: 0.2120 - accuracy: 0.9714\n",
            "Epoch 51/100\n",
            "11/11 [==============================] - 0s 5ms/step - loss: 0.2098 - accuracy: 0.9714\n",
            "Epoch 52/100\n",
            "11/11 [==============================] - 0s 5ms/step - loss: 0.2025 - accuracy: 0.9810\n",
            "Epoch 53/100\n",
            "11/11 [==============================] - 0s 4ms/step - loss: 0.1980 - accuracy: 0.9714\n",
            "Epoch 54/100\n",
            "11/11 [==============================] - 0s 4ms/step - loss: 0.1918 - accuracy: 0.9714\n",
            "Epoch 55/100\n",
            "11/11 [==============================] - 0s 5ms/step - loss: 0.1887 - accuracy: 0.9619\n",
            "Epoch 56/100\n",
            "11/11 [==============================] - 0s 4ms/step - loss: 0.1841 - accuracy: 0.9714\n",
            "Epoch 57/100\n",
            "11/11 [==============================] - 0s 4ms/step - loss: 0.1792 - accuracy: 0.9714\n",
            "Epoch 58/100\n",
            "11/11 [==============================] - 0s 4ms/step - loss: 0.1755 - accuracy: 0.9714\n",
            "Epoch 59/100\n",
            "11/11 [==============================] - 0s 5ms/step - loss: 0.1750 - accuracy: 0.9714\n",
            "Epoch 60/100\n",
            "11/11 [==============================] - 0s 4ms/step - loss: 0.1698 - accuracy: 0.9714\n",
            "Epoch 61/100\n",
            "11/11 [==============================] - 0s 4ms/step - loss: 0.1696 - accuracy: 0.9810\n",
            "Epoch 62/100\n",
            "11/11 [==============================] - 0s 4ms/step - loss: 0.1639 - accuracy: 0.9714\n",
            "Epoch 63/100\n",
            "11/11 [==============================] - 0s 3ms/step - loss: 0.1586 - accuracy: 0.9714\n",
            "Epoch 64/100\n",
            "11/11 [==============================] - 0s 4ms/step - loss: 0.1581 - accuracy: 0.9714\n",
            "Epoch 65/100\n",
            "11/11 [==============================] - 0s 4ms/step - loss: 0.1528 - accuracy: 0.9714\n",
            "Epoch 66/100\n",
            "11/11 [==============================] - 0s 4ms/step - loss: 0.1516 - accuracy: 0.9905\n",
            "Epoch 67/100\n",
            "11/11 [==============================] - 0s 3ms/step - loss: 0.1468 - accuracy: 0.9810\n",
            "Epoch 68/100\n",
            "11/11 [==============================] - 0s 3ms/step - loss: 0.1497 - accuracy: 0.9524\n",
            "Epoch 69/100\n",
            "11/11 [==============================] - 0s 4ms/step - loss: 0.1422 - accuracy: 0.9714\n",
            "Epoch 70/100\n",
            "11/11 [==============================] - 0s 4ms/step - loss: 0.1417 - accuracy: 0.9905\n",
            "Epoch 71/100\n",
            "11/11 [==============================] - 0s 4ms/step - loss: 0.1402 - accuracy: 0.9714\n",
            "Epoch 72/100\n",
            "11/11 [==============================] - 0s 4ms/step - loss: 0.1336 - accuracy: 0.9714\n",
            "Epoch 73/100\n",
            "11/11 [==============================] - 0s 4ms/step - loss: 0.1348 - accuracy: 0.9905\n",
            "Epoch 74/100\n",
            "11/11 [==============================] - 0s 4ms/step - loss: 0.1366 - accuracy: 0.9714\n",
            "Epoch 75/100\n",
            "11/11 [==============================] - 0s 4ms/step - loss: 0.1292 - accuracy: 0.9714\n",
            "Epoch 76/100\n",
            "11/11 [==============================] - 0s 4ms/step - loss: 0.1322 - accuracy: 0.9619\n",
            "Epoch 77/100\n",
            "11/11 [==============================] - 0s 4ms/step - loss: 0.1255 - accuracy: 0.9810\n",
            "Epoch 78/100\n",
            "11/11 [==============================] - 0s 4ms/step - loss: 0.1257 - accuracy: 0.9714\n",
            "Epoch 79/100\n",
            "11/11 [==============================] - 0s 4ms/step - loss: 0.1226 - accuracy: 0.9714\n",
            "Epoch 80/100\n",
            "11/11 [==============================] - 0s 5ms/step - loss: 0.1220 - accuracy: 0.9714\n",
            "Epoch 81/100\n",
            "11/11 [==============================] - 0s 4ms/step - loss: 0.1196 - accuracy: 0.9810\n",
            "Epoch 82/100\n",
            "11/11 [==============================] - 0s 5ms/step - loss: 0.1194 - accuracy: 0.9810\n",
            "Epoch 83/100\n",
            "11/11 [==============================] - 0s 4ms/step - loss: 0.1168 - accuracy: 0.9714\n",
            "Epoch 84/100\n",
            "11/11 [==============================] - 0s 4ms/step - loss: 0.1159 - accuracy: 0.9714\n",
            "Epoch 85/100\n",
            "11/11 [==============================] - 0s 5ms/step - loss: 0.1159 - accuracy: 0.9810\n",
            "Epoch 86/100\n",
            "11/11 [==============================] - 0s 3ms/step - loss: 0.1197 - accuracy: 0.9714\n",
            "Epoch 87/100\n",
            "11/11 [==============================] - 0s 3ms/step - loss: 0.1100 - accuracy: 0.9714\n",
            "Epoch 88/100\n",
            "11/11 [==============================] - 0s 4ms/step - loss: 0.1110 - accuracy: 0.9905\n",
            "Epoch 89/100\n",
            "11/11 [==============================] - 0s 3ms/step - loss: 0.1087 - accuracy: 0.9810\n",
            "Epoch 90/100\n",
            "11/11 [==============================] - 0s 4ms/step - loss: 0.1073 - accuracy: 0.9714\n",
            "Epoch 91/100\n",
            "11/11 [==============================] - 0s 4ms/step - loss: 0.1071 - accuracy: 0.9714\n",
            "Epoch 92/100\n",
            "11/11 [==============================] - 0s 4ms/step - loss: 0.1055 - accuracy: 0.9905\n",
            "Epoch 93/100\n",
            "11/11 [==============================] - 0s 4ms/step - loss: 0.1083 - accuracy: 0.9714\n",
            "Epoch 94/100\n",
            "11/11 [==============================] - 0s 4ms/step - loss: 0.1044 - accuracy: 0.9714\n",
            "Epoch 95/100\n",
            "11/11 [==============================] - 0s 4ms/step - loss: 0.1014 - accuracy: 0.9810\n",
            "Epoch 96/100\n",
            "11/11 [==============================] - 0s 3ms/step - loss: 0.1012 - accuracy: 0.9810\n",
            "Epoch 97/100\n",
            "11/11 [==============================] - 0s 3ms/step - loss: 0.1011 - accuracy: 0.9714\n",
            "Epoch 98/100\n",
            "11/11 [==============================] - 0s 3ms/step - loss: 0.1015 - accuracy: 0.9714\n",
            "Epoch 99/100\n",
            "11/11 [==============================] - 0s 3ms/step - loss: 0.1008 - accuracy: 0.9714\n",
            "Epoch 100/100\n",
            "11/11 [==============================] - 0s 4ms/step - loss: 0.0979 - accuracy: 0.9714\n"
          ]
        },
        {
          "output_type": "execute_result",
          "data": {
            "text/plain": [
              "<keras.src.callbacks.History at 0x7e526d7fbf40>"
            ]
          },
          "metadata": {},
          "execution_count": 4
        }
      ]
    },
    {
      "cell_type": "code",
      "source": [
        "_, accuracy = model.evaluate(X_test, y_test)\n",
        "print(f\"Accuracy: {accuracy*100:.2f}%\")"
      ],
      "metadata": {
        "colab": {
          "base_uri": "https://localhost:8080/"
        },
        "id": "qBVEF6EYwH14",
        "outputId": "618dcb00-69e1-408c-80f1-a6b25c4a68a2"
      },
      "execution_count": 5,
      "outputs": [
        {
          "output_type": "stream",
          "name": "stdout",
          "text": [
            "2/2 [==============================] - 0s 10ms/step - loss: 0.1159 - accuracy: 0.9778\n",
            "Accuracy: 97.78%\n"
          ]
        }
      ]
    }
  ]
}